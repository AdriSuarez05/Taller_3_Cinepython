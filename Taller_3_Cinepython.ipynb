{
 "cells": [
  {
   "cell_type": "markdown",
   "id": "d22053f0",
   "metadata": {},
   "source": [
    "## Solución Taller N3 Cinepython\n",
    "\n",
    "### Diplomado Python aplicado a la Ingeniería\n",
    "\n",
    "- Autor: Adriana Lucia Suarez Ballesteros\n",
    "- ID: 502197\n",
    "- email: adriana.suarezb@upb.edu.co\n",
    "\n"
   ]
  },
  {
   "cell_type": "code",
   "execution_count": null,
   "id": "7e9da1fd",
   "metadata": {},
   "outputs": [],
   "source": [
    "#class Cine():\n",
    "    \n",
    "    #cont = 0\n",
    "    #nombre = \"\"\n",
    "    #totalapagar = 0\n",
    "    #cantidad = 0\n",
    "    \n",
    "flag = True\n",
    "while flag:\n",
    "    choice = input(\"\"\"\n",
    "Bienvenido a Cinepython. \n",
    "Seleccione una opción:\n",
    "    1. Comidas\n",
    "    2. Alquiler\n",
    "    3. Ver factura\n",
    "    0. Salir\n",
    "    \"\"\")\n",
    "    \n",
    "    if choice == '1':\n",
    "        \n",
    "        input(\"\"\"\n",
    "        Elija una opción:\n",
    "        1. Pedir comida a domicilio\n",
    "        2. Pedir comida del menú Cinepython\n",
    "        \"\"\")\n",
    "        \n",
    "        if choice == '1':\n",
    "            \n",
    "            input(\"Ingrese comida que desee pedir: \")\n",
    "            input(\"Ingrese restaurante preferido: \")\n",
    "            \n",
    "        elif choice == '2':\n",
    "            \n",
    "            input(\"\"\"\n",
    "            Menú y precios de comida\n",
    "            - Papas fritas / 2000\n",
    "            - Hamburguesas / 5000\n",
    "            - Palomitas / 3000\n",
    "            - Gaseosas /1500\n",
    "            - Jugos /1500\n",
    "            - Mekatos / 1000\n",
    "            \"\"\")\n",
    "    \n",
    "    \n",
    "    if choice == '2':\n",
    "        \n",
    "        input(\"\"\"\n",
    "        Elija una opción:\n",
    "        1. Peliculas\n",
    "        2. Series\n",
    "        \"\"\")\n",
    "        \n",
    "        \n",
    "        if choice == '1':\n",
    "            \n",
    "            input(\"Escriba el nombre de la pelicula que desea ver\")\n",
    "            \n",
    "        elif choice == '2':\n",
    "                \n",
    "            input(\"Escriba el nombre de la serie que desee ver\")\n",
    "    \n",
    "    if choice == '0':\n",
    "        print(\"Gracias por venir. Que tenga un buen día\")\n",
    "        break"
   ]
  },
  {
   "cell_type": "code",
   "execution_count": null,
   "id": "1f2be464",
   "metadata": {},
   "outputs": [],
   "source": []
  },
  {
   "cell_type": "code",
   "execution_count": null,
   "id": "2074dace",
   "metadata": {},
   "outputs": [],
   "source": []
  }
 ],
 "metadata": {
  "kernelspec": {
   "display_name": "Python 3 (ipykernel)",
   "language": "python",
   "name": "python3"
  },
  "language_info": {
   "codemirror_mode": {
    "name": "ipython",
    "version": 3
   },
   "file_extension": ".py",
   "mimetype": "text/x-python",
   "name": "python",
   "nbconvert_exporter": "python",
   "pygments_lexer": "ipython3",
   "version": "3.9.12"
  }
 },
 "nbformat": 4,
 "nbformat_minor": 5
}
